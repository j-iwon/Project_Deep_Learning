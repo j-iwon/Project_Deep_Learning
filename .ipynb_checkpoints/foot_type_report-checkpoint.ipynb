{
 "cells": [
  {
   "cell_type": "markdown",
   "id": "6d1daae5-9fbf-4958-a028-80e150fff00d",
   "metadata": {},
   "source": [
    "# **Shoe vs Sandal vs Boot Image Dataset**\n",
    "https://www.kaggle.com/datasets/hasibalmuzdadid/shoe-vs-sandal-vs-boot-dataset-15k-images\n",
    "\n",
    "- 신발 종류를 구분하는 데이터세트\n",
    "\n",
    "<img src='./images/foot_type.png'>"
   ]
  },
  {
   "cell_type": "markdown",
   "id": "85870759-5d48-4921-975c-1773ef87fca9",
   "metadata": {},
   "source": [
    "### **1. 사전훈련모델별 유사도 분석**"
   ]
  },
  {
   "cell_type": "markdown",
   "id": "25348987-4328-4be5-9f80-d884db8836d9",
   "metadata": {},
   "source": [
    "#### VGG16"
   ]
  },
  {
   "cell_type": "markdown",
   "id": "ec0e4e61-65ad-4c78-87c7-7c0d9dcd6746",
   "metadata": {},
   "source": [
    "<img src='./images/foot_type_vgg.png'>"
   ]
  },
  {
   "cell_type": "markdown",
   "id": "7ba82e4b-d383-4860-acbd-62d966c34226",
   "metadata": {},
   "source": [
    "#### ResNet50V2"
   ]
  },
  {
   "cell_type": "markdown",
   "id": "eb6e5208-2e52-4a45-9081-cec7a89d7d3e",
   "metadata": {},
   "source": [
    "<img src='./images/foot_type_resnet.png'>"
   ]
  },
  {
   "cell_type": "markdown",
   "id": "f67b57f9-ad8c-4634-87e8-4f24a0bdc2ae",
   "metadata": {},
   "source": [
    "#### Xception"
   ]
  },
  {
   "cell_type": "markdown",
   "id": "20210315-3948-40f3-8c02-167112161557",
   "metadata": {},
   "source": [
    "<img src='./images/foot_type_xception.png'>"
   ]
  },
  {
   "cell_type": "markdown",
   "id": "1e422220-7581-43eb-a928-d43ebf5011df",
   "metadata": {},
   "source": [
    "#### MobileNetV2"
   ]
  },
  {
   "cell_type": "markdown",
   "id": "a7c0ebd6-c081-45e2-b298-7f93c73e475c",
   "metadata": {},
   "source": [
    "<img src='./images/foot_type_mobilenet.png'>"
   ]
  },
  {
   "cell_type": "markdown",
   "id": "325005af-82d7-4674-b005-47af67c9b89f",
   "metadata": {},
   "source": [
    "### **1Cycle**"
   ]
  },
  {
   "cell_type": "markdown",
   "id": "2e934c3b-3f88-4b49-a93f-e785e2c98280",
   "metadata": {},
   "source": [
    "> IMAGE_SIZE = 64  \n",
    "BATCH_SIZE = 64  \n",
    "> MODEL = VGG16  "
   ]
  },
  {
   "cell_type": "markdown",
   "id": "badfac6f-e393-4634-bea4-3578c325218f",
   "metadata": {},
   "source": [
    "- train acc: 0.9932, val_acc: 0.9746, test acc: 0.9779"
   ]
  },
  {
   "cell_type": "markdown",
   "id": "22bc80a6-04ff-4240-863b-8b575344c465",
   "metadata": {},
   "source": [
    "<img src='./images/foot_1cycle.png' width='500px'>"
   ]
  },
  {
   "cell_type": "markdown",
   "id": "df641a50-c6c9-4f0a-8243-66c46a12dc41",
   "metadata": {},
   "source": [
    "- Test data 컬럼별 이미지 출력"
   ]
  },
  {
   "cell_type": "markdown",
   "id": "0d92954a-d26a-4c0d-b28a-c255d692789b",
   "metadata": {},
   "source": [
    "<img src='./images/foot_1cycle_test.png'>"
   ]
  },
  {
   "cell_type": "markdown",
   "id": "8e9e112d-0a9b-4f46-aab4-a420dd6c317b",
   "metadata": {},
   "source": [
    "<img src='./images/foot_1cycle_test2.png'>"
   ]
  },
  {
   "cell_type": "markdown",
   "id": "cca52360-4196-4af7-b1ec-32c777fbd6a4",
   "metadata": {},
   "source": [
    "<img src='./images/foot_1cycle_test3.png'>"
   ]
  },
  {
   "cell_type": "markdown",
   "id": "b4e9b11c-dc11-48aa-ad4d-d9daebe1261a",
   "metadata": {},
   "source": [
    "- 실제 이미지를 넣었을 때 정답 출력"
   ]
  },
  {
   "cell_type": "markdown",
   "id": "182eef63-e1ef-46c8-b785-eb8c2009b463",
   "metadata": {},
   "source": [
    "<img src='./images/foot_1cycle_shoe.png' width='300px'> <img src='./images/foot_1cycle_sandal.png' width='300px'> <img src='./images/foot_1cycle_boot.png' width='300px'>"
   ]
  }
 ],
 "metadata": {
  "kernelspec": {
   "display_name": "Python 3 (ipykernel)",
   "language": "python",
   "name": "python3"
  },
  "language_info": {
   "codemirror_mode": {
    "name": "ipython",
    "version": 3
   },
   "file_extension": ".py",
   "mimetype": "text/x-python",
   "name": "python",
   "nbconvert_exporter": "python",
   "pygments_lexer": "ipython3",
   "version": "3.11.8"
  }
 },
 "nbformat": 4,
 "nbformat_minor": 5
}
